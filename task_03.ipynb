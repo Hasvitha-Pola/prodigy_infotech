{
  "nbformat": 4,
  "nbformat_minor": 0,
  "metadata": {
    "colab": {
      "provenance": [],
      "gpuType": "T4",
      "authorship_tag": "ABX9TyMYZ5CsU7tO+MOQ/axI4h9n",
      "include_colab_link": true
    },
    "kernelspec": {
      "name": "python3",
      "display_name": "Python 3"
    },
    "language_info": {
      "name": "python"
    }
  },
  "cells": [
    {
      "cell_type": "markdown",
      "metadata": {
        "id": "view-in-github",
        "colab_type": "text"
      },
      "source": [
        "<a href=\"https://colab.research.google.com/github/Hasvitha-Pola/prodigy_infotech/blob/main/task_03.ipynb\" target=\"_parent\"><img src=\"https://colab.research.google.com/assets/colab-badge.svg\" alt=\"Open In Colab\"/></a>"
      ]
    },
    {
      "cell_type": "code",
      "source": [
        "text_a = open(\"/content/input1.txt\").read()\n",
        "text_b = open(\"/content/input2.txt\").read()"
      ],
      "metadata": {
        "id": "HZaRQlT0V92W"
      },
      "execution_count": 4,
      "outputs": []
    },
    {
      "cell_type": "code",
      "source": [
        "print(text_a[:200])\n"
      ],
      "metadata": {
        "colab": {
          "base_uri": "https://localhost:8080/"
        },
        "id": "Yy151yrxWNIz",
        "outputId": "c6f81acc-7ae4-484e-9770-502a0b096e10"
      },
      "execution_count": 5,
      "outputs": [
        {
          "output_type": "stream",
          "name": "stdout",
          "text": [
            "The Project Gutenberg eBook of A brief history of the 3rd Battalion, 1st Punjab Regiment\n",
            "    \n",
            "This ebook is for the use of anyone anywhere in the United States and\n",
            "most other parts of the world at no \n"
          ]
        }
      ]
    },
    {
      "cell_type": "code",
      "source": [
        "import random\n",
        "random.sample(text_b, 20)"
      ],
      "metadata": {
        "colab": {
          "base_uri": "https://localhost:8080/"
        },
        "id": "rzaTQYaCWP6p",
        "outputId": "2aca2517-08c2-4866-b999-9d67fee42843"
      },
      "execution_count": 6,
      "outputs": [
        {
          "output_type": "execute_result",
          "data": {
            "text/plain": [
              "[' ',\n",
              " ' ',\n",
              " 'n',\n",
              " 'm',\n",
              " 'i',\n",
              " 'f',\n",
              " 'l',\n",
              " ' ',\n",
              " 'l',\n",
              " 't',\n",
              " ',',\n",
              " 't',\n",
              " 'n',\n",
              " 'l',\n",
              " 'e',\n",
              " ' ',\n",
              " ' ',\n",
              " 'f',\n",
              " ' ',\n",
              " 'c']"
            ]
          },
          "metadata": {},
          "execution_count": 6
        }
      ]
    },
    {
      "cell_type": "code",
      "source": [
        "a_words = text_a.split()\n",
        "b_words = text_b.split()"
      ],
      "metadata": {
        "id": "pJ3oFrUZWT75"
      },
      "execution_count": 7,
      "outputs": []
    },
    {
      "cell_type": "code",
      "source": [
        "random.sample(a_words, 10)\n"
      ],
      "metadata": {
        "colab": {
          "base_uri": "https://localhost:8080/"
        },
        "id": "csAKegtmWY53",
        "outputId": "deb2d81f-62e7-4316-a75a-ae3442320042"
      },
      "execution_count": 8,
      "outputs": [
        {
          "output_type": "execute_result",
          "data": {
            "text/plain": [
              "['Punjab',\n",
              " 'work.',\n",
              " 'the',\n",
              " 'until',\n",
              " 'pushed',\n",
              " 'Company',\n",
              " 'being',\n",
              " 'of',\n",
              " 'to',\n",
              " 'twenty']"
            ]
          },
          "metadata": {},
          "execution_count": 8
        }
      ]
    },
    {
      "cell_type": "code",
      "source": [
        "random.sample(b_words, 10)\n"
      ],
      "metadata": {
        "colab": {
          "base_uri": "https://localhost:8080/"
        },
        "id": "U1Av-18VWa5-",
        "outputId": "4dbc158c-5dd0-4ac0-d358-d3d6178917c0"
      },
      "execution_count": 9,
      "outputs": [
        {
          "output_type": "execute_result",
          "data": {
            "text/plain": [
              "['and', 'of', 'notice,', 'and', 'sight', 'of', 'about', 'to', 'me;', 'which']"
            ]
          },
          "metadata": {},
          "execution_count": 9
        }
      ]
    },
    {
      "cell_type": "code",
      "source": [
        "from collections import Counter\n",
        "Counter(text_a).most_common(12)"
      ],
      "metadata": {
        "colab": {
          "base_uri": "https://localhost:8080/"
        },
        "id": "e2Rrn-AYWdsv",
        "outputId": "d9a4aad9-a24d-4f2b-c2b4-8cd7910fd64c"
      },
      "execution_count": 10,
      "outputs": [
        {
          "output_type": "execute_result",
          "data": {
            "text/plain": [
              "[(' ', 20457),\n",
              " ('e', 8979),\n",
              " ('t', 6846),\n",
              " ('a', 6427),\n",
              " ('n', 5774),\n",
              " ('o', 5424),\n",
              " ('r', 5065),\n",
              " ('i', 5054),\n",
              " ('h', 3714),\n",
              " ('d', 3490),\n",
              " ('s', 3371),\n",
              " ('\\n', 2452)]"
            ]
          },
          "metadata": {},
          "execution_count": 10
        }
      ]
    },
    {
      "cell_type": "code",
      "source": [
        "Counter(a_words).most_common(12)\n"
      ],
      "metadata": {
        "colab": {
          "base_uri": "https://localhost:8080/"
        },
        "id": "GAWcn48XWfrO",
        "outputId": "b43279f5-aca8-4123-b830-412c2613bb54"
      },
      "execution_count": 11,
      "outputs": [
        {
          "output_type": "execute_result",
          "data": {
            "text/plain": [
              "[('the', 1197),\n",
              " ('of', 560),\n",
              " ('and', 539),\n",
              " ('to', 388),\n",
              " ('in', 281),\n",
              " ('was', 260),\n",
              " ('The', 188),\n",
              " ('on', 188),\n",
              " ('a', 158),\n",
              " ('by', 138),\n",
              " ('at', 121),\n",
              " ('with', 120)]"
            ]
          },
          "metadata": {},
          "execution_count": 11
        }
      ]
    },
    {
      "cell_type": "code",
      "source": [
        "Counter(b_words).most_common(12)\n"
      ],
      "metadata": {
        "colab": {
          "base_uri": "https://localhost:8080/"
        },
        "id": "33FFJIxiWhn2",
        "outputId": "84329664-2ca5-4421-c3c5-953da5a0d403"
      },
      "execution_count": 12,
      "outputs": [
        {
          "output_type": "execute_result",
          "data": {
            "text/plain": [
              "[('the', 2471),\n",
              " ('and', 1508),\n",
              " ('of', 1340),\n",
              " ('a', 823),\n",
              " ('to', 803),\n",
              " ('in', 629),\n",
              " ('I', 549),\n",
              " ('was', 377),\n",
              " ('with', 361),\n",
              " ('my', 286),\n",
              " ('at', 260),\n",
              " ('on', 255)]"
            ]
          },
          "metadata": {},
          "execution_count": 12
        }
      ]
    },
    {
      "cell_type": "code",
      "source": [
        "import sys\n",
        "!{sys.executable} -m pip install markovify"
      ],
      "metadata": {
        "colab": {
          "base_uri": "https://localhost:8080/"
        },
        "id": "sDWTMtttWmpp",
        "outputId": "00630228-757e-4766-e015-54755fbae834"
      },
      "execution_count": 13,
      "outputs": [
        {
          "output_type": "stream",
          "name": "stdout",
          "text": [
            "Collecting markovify\n",
            "  Downloading markovify-0.9.4.tar.gz (27 kB)\n",
            "  Preparing metadata (setup.py) ... \u001b[?25l\u001b[?25hdone\n",
            "Collecting unidecode (from markovify)\n",
            "  Downloading Unidecode-1.3.8-py3-none-any.whl.metadata (13 kB)\n",
            "Downloading Unidecode-1.3.8-py3-none-any.whl (235 kB)\n",
            "\u001b[2K   \u001b[90m━━━━━━━━━━━━━━━━━━━━━━━━━━━━━━━━━━━━━━━━\u001b[0m \u001b[32m235.5/235.5 kB\u001b[0m \u001b[31m14.6 MB/s\u001b[0m eta \u001b[36m0:00:00\u001b[0m\n",
            "\u001b[?25hBuilding wheels for collected packages: markovify\n",
            "  Building wheel for markovify (setup.py) ... \u001b[?25l\u001b[?25hdone\n",
            "  Created wheel for markovify: filename=markovify-0.9.4-py3-none-any.whl size=18607 sha256=ec5bb769896b7053ee5fe3837a7d8cdff6cf97f1a9edd394f3e41c088e596d36\n",
            "  Stored in directory: /root/.cache/pip/wheels/ca/8c/c5/41413e24c484f883a100c63ca7b3b0362b7c6f6eb6d7c9cc7f\n",
            "Successfully built markovify\n",
            "Installing collected packages: unidecode, markovify\n",
            "Successfully installed markovify-0.9.4 unidecode-1.3.8\n"
          ]
        }
      ]
    },
    {
      "cell_type": "code",
      "source": [
        "import markovify\n"
      ],
      "metadata": {
        "id": "4jMKiusAWrVj"
      },
      "execution_count": 14,
      "outputs": []
    },
    {
      "cell_type": "code",
      "source": [
        "generator_a = markovify.Text(text_a)\n"
      ],
      "metadata": {
        "id": "raq3cw9zWuRf"
      },
      "execution_count": 15,
      "outputs": []
    },
    {
      "cell_type": "code",
      "source": [
        "print(generator_a.make_sentence())\n"
      ],
      "metadata": {
        "colab": {
          "base_uri": "https://localhost:8080/"
        },
        "id": "vn02YdWBWv9F",
        "outputId": "c9f280f3-c03b-4cbc-dfde-b997f67e71e1"
      },
      "execution_count": 16,
      "outputs": [
        {
          "output_type": "stream",
          "name": "stdout",
          "text": [
            "Vellore having been effected, the Battalion was left in our hands 17 guns, numerous rifles, quantities of ammunition and distributing it and it was demobilized in September, 1922, some of the 24th, until he reached his final position across the open.\n"
          ]
        }
      ]
    },
    {
      "cell_type": "code",
      "source": [
        "print(generator_a.make_short_sentence(50))\n"
      ],
      "metadata": {
        "colab": {
          "base_uri": "https://localhost:8080/"
        },
        "id": "zGfa1XOKWxuF",
        "outputId": "036fbaeb-c0f0-4826-d5bf-902686434b23"
      },
      "execution_count": 17,
      "outputs": [
        {
          "output_type": "stream",
          "name": "stdout",
          "text": [
            "None\n"
          ]
        }
      ]
    },
    {
      "cell_type": "code",
      "source": [
        "print(generator_a.make_short_sentence(40, tries=100))\n"
      ],
      "metadata": {
        "colab": {
          "base_uri": "https://localhost:8080/"
        },
        "id": "kjTTeKOgW0Qh",
        "outputId": "6e8273a7-e23d-445b-fe5a-02cfdc6c97cc"
      },
      "execution_count": 18,
      "outputs": [
        {
          "output_type": "stream",
          "name": "stdout",
          "text": [
            "The army now moved up in time.\n"
          ]
        }
      ]
    },
    {
      "cell_type": "code",
      "source": [
        "print(generator_a.make_short_sentence(40, test_output=False))\n"
      ],
      "metadata": {
        "colab": {
          "base_uri": "https://localhost:8080/"
        },
        "id": "2Mt3kLFWW3-C",
        "outputId": "5f8a5a79-1483-4cf2-ea0e-0c9dabf2703e"
      },
      "execution_count": 19,
      "outputs": [
        {
          "output_type": "stream",
          "name": "stdout",
          "text": [
            "313 Havildar Ganda Singh.\n"
          ]
        }
      ]
    },
    {
      "cell_type": "code",
      "source": [
        "\n",
        "gen_a_1 = markovify.Text(text_a, state_size=1)\n",
        "gen_a_4 = markovify.Text(text_a, state_size=4)"
      ],
      "metadata": {
        "id": "ZZELCFhtW2eS"
      },
      "execution_count": 20,
      "outputs": []
    },
    {
      "cell_type": "code",
      "source": [
        "print(\"order 1\")\n",
        "print(gen_a_1.make_sentence(test_output=False))\n",
        "print()\n",
        "print(\"order 4\")\n",
        "print(gen_a_4.make_sentence(test_output=False))"
      ],
      "metadata": {
        "colab": {
          "base_uri": "https://localhost:8080/"
        },
        "id": "a6BcteVDW6VX",
        "outputId": "7342bfec-0e8c-43b1-fa6f-27b947ad768c"
      },
      "execution_count": 21,
      "outputs": [
        {
          "output_type": "stream",
          "name": "stdout",
          "text": [
            "order 1\n",
            "On August 8th the Guzzlehutty Pass with the 24th the following officers and a threatened points from various Punjab Battalions of anyone anywhere in the assault was employed to Basra.\n",
            "\n",
            "order 4\n",
            "Tripasore, the main base of the army, was attacked by Hyder, but held out until relieved, the garrison being under the command of Major S. van B. Laing.\n"
          ]
        }
      ]
    },
    {
      "cell_type": "code",
      "source": [
        "class SentencesByChar(markovify.Text):\n",
        "    def word_split(self, sentence):\n",
        "        return list(sentence)\n",
        "    def word_join(self, words):\n",
        "        return \"\".join(words)"
      ],
      "metadata": {
        "id": "7bOgGFO_W8f1"
      },
      "execution_count": 22,
      "outputs": []
    },
    {
      "cell_type": "code",
      "source": [
        "con_model = SentencesByChar(\"condescendences\", state_size=2)\n"
      ],
      "metadata": {
        "id": "lT662kdoW_f6"
      },
      "execution_count": 23,
      "outputs": []
    },
    {
      "cell_type": "code",
      "source": [
        "con_model.make_sentence()\n"
      ],
      "metadata": {
        "colab": {
          "base_uri": "https://localhost:8080/",
          "height": 36
        },
        "id": "uoNHtW_FXBQE",
        "outputId": "dc389583-5953-4223-ff2f-f25922853dde"
      },
      "execution_count": 24,
      "outputs": [
        {
          "output_type": "execute_result",
          "data": {
            "text/plain": [
              "'condescencescencesces'"
            ],
            "application/vnd.google.colaboratory.intrinsic+json": {
              "type": "string"
            }
          },
          "metadata": {},
          "execution_count": 24
        }
      ]
    },
    {
      "cell_type": "code",
      "source": [
        "gen_a_char = SentencesByChar(text_a, state_size=7)\n"
      ],
      "metadata": {
        "id": "aEih6sJeXCwK"
      },
      "execution_count": 25,
      "outputs": []
    },
    {
      "cell_type": "code",
      "source": [
        "print(gen_a_char.make_sentence(test_output=False).replace(\"\\n\", \" \"))\n"
      ],
      "metadata": {
        "colab": {
          "base_uri": "https://localhost:8080/"
        },
        "id": "IBPb_JYAXEJb",
        "outputId": "45be2eaf-ef0c-4565-9171-32850184452d"
      },
      "execution_count": 26,
      "outputs": [
        {
          "output_type": "stream",
          "name": "stdout",
          "text": [
            "Lieutenant A. H. Dobbs, T. M. Graves, 2nd-Lieutenant N. McD.\n"
          ]
        }
      ]
    },
    {
      "cell_type": "code",
      "source": [
        "generator_a = markovify.Text(text_a)\n",
        "generator_b = markovify.Text(text_b)\n",
        "combo = markovify.combine([generator_a, generator_b], [0.5, 0.5])"
      ],
      "metadata": {
        "id": "tmp-lW3DXGGV"
      },
      "execution_count": 27,
      "outputs": []
    },
    {
      "cell_type": "code",
      "source": [
        "print(combo.make_sentence())\n"
      ],
      "metadata": {
        "colab": {
          "base_uri": "https://localhost:8080/"
        },
        "id": "ZzSLkE8mXI2l",
        "outputId": "7a5b7a1c-b946-4b0e-95a2-4f9ab1381903"
      },
      "execution_count": 28,
      "outputs": [
        {
          "output_type": "stream",
          "name": "stdout",
          "text": [
            "To conclude—the people, by which I could in truth hail it as a faithful narrator, I am constrained to give you a second opportunity to receive him.\n"
          ]
        }
      ]
    },
    {
      "cell_type": "code",
      "source": [
        "\n",
        "# change to \"word\" for a word-level model\n",
        "level = \"char\"\n",
        "# controls the length of the n-gram\n",
        "order = 7\n",
        "# controls the number of lines to output\n",
        "output_n = 14\n",
        "# weights between the models; text A first, text B second.\n",
        "# if you want to completely exclude one model, set its corresponding value to 0\n",
        "weights = [0.5, 0.5]\n",
        "# limit sentence output to this number of characters\n",
        "length_limit = 280"
      ],
      "metadata": {
        "id": "8ikf9GKGXK0X"
      },
      "execution_count": 29,
      "outputs": []
    },
    {
      "cell_type": "code",
      "source": [
        "model_cls = markovify.Text if level == \"word\" else SentencesByChar\n",
        "gen_a = model_cls(text_a, state_size=order)\n",
        "gen_b = model_cls(text_b, state_size=order)\n",
        "gen_combo = markovify.combine([gen_a, gen_b], weights)\n",
        "for i in range(output_n):\n",
        "    out = gen_combo.make_short_sentence(length_limit, test_output=False)\n",
        "    out = out.replace(\"\\n\", \" \")\n",
        "    print(out)\n",
        "    print()"
      ],
      "metadata": {
        "colab": {
          "base_uri": "https://localhost:8080/"
        },
        "id": "35MuV3hUXNww",
        "outputId": "ed600889-3a66-4d87-df97-dd83c10cc5dc"
      },
      "execution_count": 30,
      "outputs": [
        {
          "output_type": "stream",
          "name": "stdout",
          "text": [
            "The enemy trenches, which, dipped in a trance-like stupor.\n",
            "\n",
            "A consultation set forth gloriously heard a mile, we found the spine behind a strong and run furious and darkness and heartily.\n",
            "\n",
            "Pushed for the king’s barge had meanwhile been jammed across the Euphrates in steamer to Basra after a while station.\n",
            "\n",
            "74 Havildar Kalandar Khan.\n",
            "\n",
            "These are confirms her purpose.\n",
            "\n",
            "The intercourse; but the _toro_ cannot make any statements and crawling down the city, at sun set, seated in vain; and present at Buenos Ayres.\n",
            "\n",
            "Lieut.-Colonel A. C. H. Smithett, the river were then descended the next horsemen will be let out upon her should end the Dead Sea, rejoined were 8 Indian officers: 2 killed it with and 9th the Turkish artillery fire whenever possessing or hypertext form.\n",
            "\n",
            "By 3 p.m. it was decently dress.\n",
            "\n",
            "The same day and Cornhill!\n",
            "\n",
            "Section 2.\n",
            "\n",
            "I was several times, a solitary Cross._         Group or Regiment.\n",
            "\n",
            "I however, I fell and we drove the evening the 1st Bengal.\n",
            "\n",
            "LIST OF COMMANDANTS, 1903-1926.\n",
            "\n",
            "REMARKS.\n",
            "\n"
          ]
        }
      ]
    },
    {
      "cell_type": "code",
      "source": [
        "sonnets_text = open(\"sonnets.txt\").read()\n",
        "sonnets_model = markovify.NewlineText(sonnets_text, state_size=1)"
      ],
      "metadata": {
        "id": "GVaWGhNoXUBA"
      },
      "execution_count": 31,
      "outputs": []
    },
    {
      "cell_type": "code",
      "source": [
        "sonnets_model.make_sentence()\n"
      ],
      "metadata": {
        "colab": {
          "base_uri": "https://localhost:8080/",
          "height": 36
        },
        "id": "G6J-5voZXREk",
        "outputId": "22c4c051-95c4-486b-9b1d-8b1dd3632b27"
      },
      "execution_count": 32,
      "outputs": [
        {
          "output_type": "execute_result",
          "data": {
            "text/plain": [
              "'But let not so?'"
            ],
            "application/vnd.google.colaboratory.intrinsic+json": {
              "type": "string"
            }
          },
          "metadata": {},
          "execution_count": 32
        }
      ]
    },
    {
      "cell_type": "code",
      "source": [
        "for i in range(14):\n",
        "    print(sonnets_model.make_sentence())"
      ],
      "metadata": {
        "colab": {
          "base_uri": "https://localhost:8080/"
        },
        "id": "H1RQORjMXpks",
        "outputId": "3a7c3cf6-11cb-45db-ab4a-ebca54457330"
      },
      "execution_count": 33,
      "outputs": [
        {
          "output_type": "stream",
          "name": "stdout",
          "text": [
            "And tongues to thee.\n",
            "Not prizing her face,\n",
            "So shall I fortune once asleep,\n",
            "As any fear is far off, with compare,\n",
            "To subjects light?\n",
            "Nor tender heir might I lose his visage hide,\n",
            "And only live your epitaph to torture me that he shows not false plague are our night my state\n",
            "The very refuse of your leisure!\n",
            "Mad slanderers by this sin by his for his theft, in mine eyes,\n",
            "And with false Art left behind,\n",
            "Which eyes not to yellow leaves, or wh'r better it this purpose, that yourself still,\n",
            "When that pen would show thee hence.\n",
            "Among a father: let me\n",
            "How like a counterpart shall live, and sun, thine own thoughts, although their character with the treasure of these last so as I with base clouds to give physic to compounds we prove\n"
          ]
        }
      ]
    },
    {
      "cell_type": "code",
      "source": [
        "class LinesByChar(markovify.NewlineText):\n",
        "    def word_split(self, sentence):\n",
        "        return list(sentence)\n",
        "    def word_join(self, words):\n",
        "        return \"\".join(words)"
      ],
      "metadata": {
        "id": "w-SV2eDZXnex"
      },
      "execution_count": 34,
      "outputs": []
    },
    {
      "cell_type": "code",
      "source": [
        "sonnets_char_model = LinesByChar(sonnets_text, state_size=4)\n"
      ],
      "metadata": {
        "id": "_jikZx7VXsY7"
      },
      "execution_count": 35,
      "outputs": []
    },
    {
      "cell_type": "code",
      "source": [
        "for i in range(14):\n",
        "    print(sonnets_char_model.make_sentence())\n"
      ],
      "metadata": {
        "colab": {
          "base_uri": "https://localhost:8080/"
        },
        "id": "Fqk3aK6gXuDh",
        "outputId": "6b9a1864-8dfb-43aa-dbc4-eb384a0e498e"
      },
      "execution_count": 36,
      "outputs": [
        {
          "output_type": "stream",
          "name": "stdout",
          "text": [
            "Look! when in my loving his alread;\n",
            "And love, why dote.\n",
            "Who, itself-love's score;\n",
            "Yet ne'er-read their a modern quity.\n",
            "And forth all of then first-born thou art, nor wealthful though to-day by thou art all fault I foul fame!\n",
            "And should dear themes of allows not at a lear slanded mine own stay;\n",
            "How complexion'd by making in prophecies\n",
            "If eyes seek tongue\n",
            "Herein love away.\n",
            "Made of that true a some famouse to store,\n",
            "Cannot befriend heart\n",
            "When your poet doth depend?\n",
            "So of my heart an even shore, it none, but yet, love and you,\n",
            "But rich-proudestrongers wide,\n"
          ]
        }
      ]
    },
    {
      "cell_type": "code",
      "source": [
        "import json\n",
        "mood_data = json.loads(open(\"./moods.json\").read())\n",
        "moods = mood_data['moods']"
      ],
      "metadata": {
        "id": "uunrVtLxXw3V"
      },
      "execution_count": 37,
      "outputs": []
    },
    {
      "cell_type": "code",
      "source": [
        "moods_text = \"\\n\".join(moods)\n"
      ],
      "metadata": {
        "id": "gVJ19gK6X1IG"
      },
      "execution_count": 38,
      "outputs": []
    },
    {
      "cell_type": "code",
      "source": [
        "moods_char_model = LinesByChar(moods_text, state_size=3)\n"
      ],
      "metadata": {
        "id": "1jtMmdzoYG1b"
      },
      "execution_count": 39,
      "outputs": []
    },
    {
      "cell_type": "code",
      "source": [
        "for i in range(24):\n",
        "    print(moods_char_model.make_sentence())"
      ],
      "metadata": {
        "colab": {
          "base_uri": "https://localhost:8080/"
        },
        "id": "60C6azouYJ5Z",
        "outputId": "c313ee31-91e5-418b-e30a-c6e6efa5c6c1"
      },
      "execution_count": 40,
      "outputs": [
        {
          "output_type": "stream",
          "name": "stdout",
          "text": [
            "highty\n",
            "diffense\n",
            "inquiet\n",
            "cheepissed\n",
            "bittended\n",
            "repreciating\n",
            "hospicidated\n",
            "interious\n",
            "cappy\n",
            "selessed\n",
            "reserished\n",
            "neededitalenthusiasted\n",
            "innocensed\n",
            "selessive\n",
            "hyperprisintenthusive\n",
            "tensorrificule\n",
            "sassurly\n",
            "molessess\n",
            "lyricted\n",
            "parationated\n",
            "panical\n",
            "reminished\n",
            "grous\n",
            "lovated\n"
          ]
        }
      ]
    },
    {
      "cell_type": "code",
      "source": [],
      "metadata": {
        "id": "YpJvkWo2YMTR"
      },
      "execution_count": 40,
      "outputs": []
    }
  ]
}